{
 "cells": [
  {
   "cell_type": "markdown",
   "id": "59e4659d-840d-4ea1-835f-ba8278e2452d",
   "metadata": {},
   "source": [
    "Copyright 2023 Province of British Columbia\r\n",
    "\r\n",
    "Licensed under the Apache License, Version 2.0 (the \"License\");\r\n",
    "you may not use this file except in compliance with the License.\r\n",
    "You may obtain a copy of the License at \r\n",
    "\r\n",
    "   http://www.apache.org/licenses/LICENSE-2.0\r\n",
    "\r\n",
    "Unless required by applicable law or agreed to in writing, software\r\n",
    "distributed under the License is distributed on an \"AS IS\" BASIS,\r\n",
    "WITHOUT WARRANTIES OR CONDITIONS OF ANY KIND, either express or implied.\r\n",
    "See the License for the specific language governing permissions and\r\n",
    "limitations under he License.\r\n",
    "the License."
   ]
  },
  {
   "cell_type": "markdown",
   "id": "395dc5f4-fa17-4889-953b-91fb80993c15",
   "metadata": {},
   "source": [
    "## Imports and Parameters"
   ]
  },
  {
   "cell_type": "code",
   "execution_count": 1,
   "id": "55c48dd5-971d-4078-b759-f0fe83ba6156",
   "metadata": {},
   "outputs": [],
   "source": [
    "# add our stuff to the path\n",
    "import sys\n",
    "import os\n",
    "sys.path.insert(1, os.path.join(sys.path[0], '..'))\n",
    "\n",
    "# other stuff\n",
    "import time\n",
    "\n",
    "# import our stuff\n",
    "from importlib import reload\n",
    "from src import connect, preprocess, synthetic, model"
   ]
  },
  {
   "cell_type": "code",
   "execution_count": 2,
   "id": "a79b63c3-7bb0-40b2-88b9-e22ca1ded814",
   "metadata": {},
   "outputs": [],
   "source": [
    "# PARAMETERS\n",
    "\n",
    "# info to gain access to database, IDIR restricted \n",
    "CRED_PATH = '../credentials.txt'\n",
    "\n",
    "# where model is stored. requires credentials.txt for full path \n",
    "MODEL_BASE_PATH = 'Model/Q32'\n",
    "\n",
    "# which tables to access\n",
    "RESPONSE_TABLE = 'dbo.AQ32RACE'\n",
    "CODE_TABLE = 'dbo.AQ32RACE_Codes'\n",
    "CLOSED_TABLE = 'dbo.Q32RACEMultiResponse'\n",
    "RESULTS_TABLE = 'AQ32RACE_RESULTS'\n",
    "\n",
    "# which column to use/create \n",
    "RESPONSE_COLUMN = 'aq32race_combined'\n",
    "OUTPUT_COLUMNS = 'q32race_c'\n",
    "N_COLUMNS = 16\n",
    "\n",
    "# delimiter to send back with concatenated results\n",
    "DELIMITER = 'μ' \n",
    "\n",
    "# amount of synthetic data to produce\n",
    "N_SYNTHETIC_MIXED = 50_000\n",
    "\n",
    "# threshold for accepting as a flagged category\n",
    "THRESHOLD = 0.5\n",
    "\n",
    "# upper and lower thresholds for flagging as a possible category\n",
    "TENTATIVE_UPPER = 0.75\n",
    "TENTATIVE_LOWER = 0.25"
   ]
  },
  {
   "cell_type": "markdown",
   "id": "ca54f611-761b-4767-ae3f-bb63535496e8",
   "metadata": {},
   "source": [
    "## Read from Database"
   ]
  },
  {
   "cell_type": "code",
   "execution_count": 3,
   "id": "2e3b9eac-0f68-42c4-8a58-c58a8afa02a5",
   "metadata": {},
   "outputs": [
    {
     "name": "stderr",
     "output_type": "stream",
     "text": [
      "C:\\Users\\lfredric\\Work\\dev\\github_repos\\bcgov\\demo-nlp\\notebooks\\..\\src\\connect.py:70: UserWarning: pandas only supports SQLAlchemy connectable (engine/connection) or database string URI or sqlite3 DBAPI2 connection. Other DBAPI2 objects are not tested. Please consider using SQLAlchemy.\n",
      "  df = pd.read_sql(f'SELECT * FROM {table_name}', connection)\n"
     ]
    }
   ],
   "source": [
    "# Read in all data required to build model\n",
    "connection = connect.create_connection(CRED_PATH)\n",
    "\n",
    "# actual responses\n",
    "df_open = connect.fetch_table(RESPONSE_TABLE, connection)\n",
    "\n",
    "# codes to match\n",
    "code_df = connect.fetch_table(CODE_TABLE, connection)\n",
    "\n",
    "# closed respones (for multi response frequencies)\n",
    "df_closed = connect.fetch_table(CLOSED_TABLE, connection)"
   ]
  },
  {
   "cell_type": "markdown",
   "id": "7e2a154b-e1d4-4357-992d-eda35defff6a",
   "metadata": {},
   "source": [
    "## Preprocess Data\n",
    "\n",
    "* Use only cycle 1 for training.\n",
    "* Use the cleaned column.\n",
    "* Correct spelling where possible (takes longer time to run).\n",
    "* Create input and output tables for model (input table takes a while to produce)"
   ]
  },
  {
   "cell_type": "code",
   "execution_count": 4,
   "id": "dded3ff3-b997-494a-b887-01f77e391859",
   "metadata": {},
   "outputs": [
    {
     "data": {
      "text/html": [
       "<div>\n",
       "<style scoped>\n",
       "    .dataframe tbody tr th:only-of-type {\n",
       "        vertical-align: middle;\n",
       "    }\n",
       "\n",
       "    .dataframe tbody tr th {\n",
       "        vertical-align: top;\n",
       "    }\n",
       "\n",
       "    .dataframe thead th {\n",
       "        text-align: right;\n",
       "    }\n",
       "</style>\n",
       "<table border=\"1\" class=\"dataframe\">\n",
       "  <thead>\n",
       "    <tr style=\"text-align: right;\">\n",
       "      <th></th>\n",
       "      <th>id</th>\n",
       "      <th>q32race</th>\n",
       "      <th>aq32race</th>\n",
       "      <th>aq32race_cleaned</th>\n",
       "      <th>coding_comment</th>\n",
       "      <th>q32race_c01</th>\n",
       "      <th>q32race_c02</th>\n",
       "      <th>q32race_c03</th>\n",
       "      <th>q32race_c04</th>\n",
       "      <th>q32race_c05</th>\n",
       "      <th>...</th>\n",
       "      <th>q32race_c08</th>\n",
       "      <th>q32race_c09</th>\n",
       "      <th>q32race_c10</th>\n",
       "      <th>q32race_c11</th>\n",
       "      <th>q32race_c12</th>\n",
       "      <th>q32race_c13</th>\n",
       "      <th>q32race_c14</th>\n",
       "      <th>q32race_c15</th>\n",
       "      <th>q32race_c16</th>\n",
       "      <th>cycle</th>\n",
       "    </tr>\n",
       "  </thead>\n",
       "  <tbody>\n",
       "    <tr>\n",
       "      <th>0</th>\n",
       "      <td>0038702</td>\n",
       "      <td>97</td>\n",
       "      <td>Canadian</td>\n",
       "      <td>None</td>\n",
       "      <td>None</td>\n",
       "      <td>97</td>\n",
       "      <td>None</td>\n",
       "      <td>None</td>\n",
       "      <td>None</td>\n",
       "      <td>None</td>\n",
       "      <td>...</td>\n",
       "      <td>None</td>\n",
       "      <td>None</td>\n",
       "      <td>None</td>\n",
       "      <td>None</td>\n",
       "      <td>None</td>\n",
       "      <td>None</td>\n",
       "      <td>None</td>\n",
       "      <td>None</td>\n",
       "      <td>None</td>\n",
       "      <td>1</td>\n",
       "    </tr>\n",
       "    <tr>\n",
       "      <th>1</th>\n",
       "      <td>0000004</td>\n",
       "      <td>97</td>\n",
       "      <td>Canadian</td>\n",
       "      <td>None</td>\n",
       "      <td>None</td>\n",
       "      <td>20001</td>\n",
       "      <td>None</td>\n",
       "      <td>None</td>\n",
       "      <td>None</td>\n",
       "      <td>None</td>\n",
       "      <td>...</td>\n",
       "      <td>None</td>\n",
       "      <td>None</td>\n",
       "      <td>None</td>\n",
       "      <td>None</td>\n",
       "      <td>None</td>\n",
       "      <td>None</td>\n",
       "      <td>None</td>\n",
       "      <td>None</td>\n",
       "      <td>None</td>\n",
       "      <td>1</td>\n",
       "    </tr>\n",
       "    <tr>\n",
       "      <th>2</th>\n",
       "      <td>0000013</td>\n",
       "      <td>97</td>\n",
       "      <td>White</td>\n",
       "      <td>None</td>\n",
       "      <td>None</td>\n",
       "      <td>105</td>\n",
       "      <td>None</td>\n",
       "      <td>None</td>\n",
       "      <td>None</td>\n",
       "      <td>None</td>\n",
       "      <td>...</td>\n",
       "      <td>None</td>\n",
       "      <td>None</td>\n",
       "      <td>None</td>\n",
       "      <td>None</td>\n",
       "      <td>None</td>\n",
       "      <td>None</td>\n",
       "      <td>None</td>\n",
       "      <td>None</td>\n",
       "      <td>None</td>\n",
       "      <td>1</td>\n",
       "    </tr>\n",
       "    <tr>\n",
       "      <th>3</th>\n",
       "      <td>0000047</td>\n",
       "      <td>97</td>\n",
       "      <td>Caucasian</td>\n",
       "      <td>None</td>\n",
       "      <td>None</td>\n",
       "      <td>105</td>\n",
       "      <td>None</td>\n",
       "      <td>None</td>\n",
       "      <td>None</td>\n",
       "      <td>None</td>\n",
       "      <td>...</td>\n",
       "      <td>None</td>\n",
       "      <td>None</td>\n",
       "      <td>None</td>\n",
       "      <td>None</td>\n",
       "      <td>None</td>\n",
       "      <td>None</td>\n",
       "      <td>None</td>\n",
       "      <td>None</td>\n",
       "      <td>None</td>\n",
       "      <td>1</td>\n",
       "    </tr>\n",
       "    <tr>\n",
       "      <th>4</th>\n",
       "      <td>0000073</td>\n",
       "      <td>108µ97</td>\n",
       "      <td>Brazilian</td>\n",
       "      <td>None</td>\n",
       "      <td>None</td>\n",
       "      <td>108</td>\n",
       "      <td>None</td>\n",
       "      <td>None</td>\n",
       "      <td>None</td>\n",
       "      <td>None</td>\n",
       "      <td>...</td>\n",
       "      <td>None</td>\n",
       "      <td>None</td>\n",
       "      <td>None</td>\n",
       "      <td>None</td>\n",
       "      <td>None</td>\n",
       "      <td>None</td>\n",
       "      <td>None</td>\n",
       "      <td>None</td>\n",
       "      <td>None</td>\n",
       "      <td>1</td>\n",
       "    </tr>\n",
       "  </tbody>\n",
       "</table>\n",
       "<p>5 rows × 22 columns</p>\n",
       "</div>"
      ],
      "text/plain": [
       "        id q32race   aq32race aq32race_cleaned coding_comment q32race_c01  \\\n",
       "0  0038702      97   Canadian             None           None          97   \n",
       "1  0000004      97   Canadian             None           None       20001   \n",
       "2  0000013      97      White             None           None         105   \n",
       "3  0000047      97  Caucasian             None           None         105   \n",
       "4  0000073  108µ97  Brazilian             None           None         108   \n",
       "\n",
       "  q32race_c02 q32race_c03 q32race_c04 q32race_c05  ... q32race_c08  \\\n",
       "0        None        None        None        None  ...        None   \n",
       "1        None        None        None        None  ...        None   \n",
       "2        None        None        None        None  ...        None   \n",
       "3        None        None        None        None  ...        None   \n",
       "4        None        None        None        None  ...        None   \n",
       "\n",
       "  q32race_c09 q32race_c10 q32race_c11 q32race_c12 q32race_c13 q32race_c14  \\\n",
       "0        None        None        None        None        None        None   \n",
       "1        None        None        None        None        None        None   \n",
       "2        None        None        None        None        None        None   \n",
       "3        None        None        None        None        None        None   \n",
       "4        None        None        None        None        None        None   \n",
       "\n",
       "  q32race_c15 q32race_c16 cycle  \n",
       "0        None        None     1  \n",
       "1        None        None     1  \n",
       "2        None        None     1  \n",
       "3        None        None     1  \n",
       "4        None        None     1  \n",
       "\n",
       "[5 rows x 22 columns]"
      ]
     },
     "execution_count": 4,
     "metadata": {},
     "output_type": "execute_result"
    }
   ],
   "source": [
    "# for training purposes, open responses should only be those from cycle 1\n",
    "df = df_open[df_open.cycle == 1].reset_index(drop=True)\n",
    "df.head()"
   ]
  },
  {
   "cell_type": "code",
   "execution_count": null,
   "id": "8b73ddec-8670-4cee-81c2-74ebb547d425",
   "metadata": {},
   "outputs": [],
   "source": [
    "# get a cleaned up column to use (mix of actual comment column and cleaned)\n",
    "# question : will the cleaned column always be available? or add in extra preprocessing here\n",
    "df.loc[:, RESPONSE_COLUMN] = df.apply(\n",
    "    lambda x: x.aq32race.lower() if x.aq32race_cleaned == None or x.aq32race_cleaned=='105' else x.aq32race_cleaned.lower(), \n",
    "    axis=1\n",
    ")\n",
    "\n",
    "# fix the spelling to send to the model \n",
    "# note this takes a long time to do, so don't add it to the get_scores function\n",
    "df.loc[:, RESPONSE_COLUMN] = df[RESPONSE_COLUMN].apply(preprocess.correct_spelling)\n",
    "\n",
    "df.head()"
   ]
  },
  {
   "cell_type": "code",
   "execution_count": null,
   "id": "828d4b39-bced-4f02-959f-2a28c8c32128",
   "metadata": {},
   "outputs": [],
   "source": [
    "# get long form table of codes\n",
    "code_df_long = preprocess.get_long_form_codes(code_df)\n",
    "code_df_long.head()"
   ]
  },
  {
   "cell_type": "code",
   "execution_count": null,
   "id": "8403176f-edc3-41fc-874d-ac205109ed20",
   "metadata": {},
   "outputs": [],
   "source": [
    "# build a training dataset for the model \n",
    "# first part of dataset: actual data\n",
    "\n",
    "# INPUTS TO MODEL\n",
    "headers = list(preprocess.get_scores('test', code_df_long, as_df = True).col_id.values)\n",
    "\n",
    "input_df = preprocess.get_scores_from_df(df, RESPONSE_COLUMN, code_df_long, headers=headers)\n",
    "display(input_df.head())\n",
    "\n",
    "# OUTPUTS OF MODEL\n",
    "# converts the coded columns into wide form 1/0 binary responses for every option \n",
    "output_df = preprocess.get_outputs_wide(df, RESPONSE_COLUMN, code_df_long, OUTPUT_COLUMNS, N_COLUMNS)\n",
    "output_df.head()"
   ]
  },
  {
   "cell_type": "markdown",
   "id": "8ac22f57-dc8a-4750-b811-39aea4b2e5b0",
   "metadata": {},
   "source": [
    "## Create Synthetic Data\n",
    "\n",
    "* To augment our training data, produce synthetic data from the available phrases in the code list. \n",
    "* Both singular phrases and multi-response phrases are produced.\n",
    "* The multi-response phrases are randomly generated according to weights associated with the non-written responses. "
   ]
  },
  {
   "cell_type": "code",
   "execution_count": null,
   "id": "01465766-e2cc-4573-a710-b0283536714d",
   "metadata": {},
   "outputs": [],
   "source": [
    "# create synthetic data\n",
    "# this section will create synthetic data that matches a single category based on available phrases \n",
    "input_columns = list(input_df.columns)\n",
    "output_columns = list(output_df.columns)\n",
    "\n",
    "extra_input_df, extra_output_df = synthetic.create_single_phrase_synthetic(\n",
    "    output_df, \n",
    "    input_columns,\n",
    "    output_columns,\n",
    "    code_df_long\n",
    ")"
   ]
  },
  {
   "cell_type": "code",
   "execution_count": null,
   "id": "fa5508d1-ad22-4c7b-99df-b8f6330783d4",
   "metadata": {},
   "outputs": [],
   "source": [
    "# create synthetic data\n",
    "# this section will create synthetic data that matches multiple categories\n",
    "mixed_input_df, mixed_output_df = synthetic.create_multi_phrase_synthetic(\n",
    "    output_df,\n",
    "    df_closed,\n",
    "    input_columns,\n",
    "    output_columns,\n",
    "    code_df_long,\n",
    "    N_SYNTHETIC_MIXED\n",
    ")"
   ]
  },
  {
   "cell_type": "code",
   "execution_count": null,
   "id": "06945ae7",
   "metadata": {},
   "outputs": [],
   "source": [
    "# Concatenate with existing data\n",
    "final_input_df = pd.concat([input_df, extra_input_df, mixed_input_df], ignore_index=True).drop('response', axis=1).astype(int)\n",
    "final_output_df = pd.concat([output_df, extra_output_df, mixed_output_df], ignore_index=True).drop('response', axis=1).astype(int)"
   ]
  },
  {
   "cell_type": "markdown",
   "id": "5d7ed2d4-01bc-4243-9885-e486e86e7633",
   "metadata": {},
   "source": [
    "## Train Model\n",
    "\n",
    "To deal with the fact we have many possible categorical outputs, use a simple random forest model that will handle multiple outputs better than other models.\n",
    "\n",
    "* After training, save model. "
   ]
  },
  {
   "cell_type": "code",
   "execution_count": null,
   "id": "b73f9711-5f8a-43df-acdc-fa828a8bb4bb",
   "metadata": {},
   "outputs": [],
   "source": [
    "clf = model.create_model(final_input_df, final_output_df)"
   ]
  },
  {
   "cell_type": "code",
   "execution_count": null,
   "id": "d41ce80e-8f72-484f-937d-1d573195f327",
   "metadata": {},
   "outputs": [],
   "source": [
    "model.save_model(CRED_PATH, MODEL_BASE_PATH, clf, code_df_long)"
   ]
  },
  {
   "cell_type": "code",
   "execution_count": null,
   "id": "2d0a3f42-0c71-4cb4-9eeb-10f8a9871bd7",
   "metadata": {},
   "outputs": [],
   "source": [
    "clf, code_df_long = model.load_model(CRED_PATH, MODEL_BASE_PATH)"
   ]
  },
  {
   "cell_type": "markdown",
   "id": "08e5b474-281d-4312-80b4-bedea2ed5ee1",
   "metadata": {},
   "source": [
    "## Produce Model Results\n",
    "\n",
    "* Look at some results by hand to see if it makes sense\n",
    "* Create results for entire hand-coded dataset\n",
    "* Send results back to databse"
   ]
  },
  {
   "cell_type": "code",
   "execution_count": null,
   "id": "9e0b02e4-286c-4e6d-a625-9f26c89000aa",
   "metadata": {},
   "outputs": [],
   "source": [
    "sentence = 'chinese, japanese, korean'\n",
    "model.list_classes(sentence, code_df_long, clf, spellcheck=True)"
   ]
  },
  {
   "cell_type": "code",
   "execution_count": null,
   "id": "83291026-be4d-4ff0-a5b7-5854e1eba0a9",
   "metadata": {},
   "outputs": [],
   "source": [
    "results_df = model.produce_results(\n",
    "    df, input_df, output_df, \n",
    "    clf,\n",
    "    OUTPUT_COLUMNS,\n",
    "    N_COLUMNS,\n",
    "    threshold=THRESHOLD,\n",
    "    tentative_lower = TENTATIVE_LOWER,\n",
    "    tentative_upper = TENTATIVE_UPPER,\n",
    "    delimiter = DELIMITER\n",
    ")"
   ]
  },
  {
   "cell_type": "code",
   "execution_count": null,
   "id": "dafc51ce-eb1c-415c-a31d-bbe3947be9d3",
   "metadata": {},
   "outputs": [],
   "source": [
    "# save back to database\n",
    "engine = connect.create_connection(CRED_PATH, sqlalchemy=True)\n",
    "\n",
    "# for initial save of cycle 1, always replace. any subsequent inputs should be appended\n",
    "connect.save_table(results_df, RESULTS_TABLE, engine, how='replace')"
   ]
  },
  {
   "cell_type": "code",
   "execution_count": null,
   "id": "5da7646d-d6f8-4cf2-be0b-196dbff66ff8",
   "metadata": {},
   "outputs": [],
   "source": []
  },
  {
   "cell_type": "code",
   "execution_count": null,
   "id": "ae641bb8-f26e-4a3a-bfdf-2512cdf4d413",
   "metadata": {},
   "outputs": [],
   "source": []
  }
 ],
 "metadata": {
  "kernelspec": {
   "display_name": "Python 3 (ipykernel)",
   "language": "python",
   "name": "python3"
  },
  "language_info": {
   "codemirror_mode": {
    "name": "ipython",
    "version": 3
   },
   "file_extension": ".py",
   "mimetype": "text/x-python",
   "name": "python",
   "nbconvert_exporter": "python",
   "pygments_lexer": "ipython3",
   "version": "3.10.12"
  }
 },
 "nbformat": 4,
 "nbformat_minor": 5
}

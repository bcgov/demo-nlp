{
 "cells": [
  {
   "cell_type": "code",
   "execution_count": null,
   "id": "55c48dd5-971d-4078-b759-f0fe83ba6156",
   "metadata": {},
   "outputs": [],
   "source": [
    "# add our stuff to the path\n",
    "import sys\n",
    "import os\n",
    "sys.path.insert(1, os.path.join(sys.path[0], '..'))\n",
    "\n",
    "# other stuff\n",
    "import time\n",
    "\n",
    "# import our stuff\n",
    "from importlib import reload\n",
    "from src import connect, preprocess, synthetic, model"
   ]
  },
  {
   "cell_type": "code",
   "execution_count": null,
   "id": "a79b63c3-7bb0-40b2-88b9-e22ca1ded814",
   "metadata": {},
   "outputs": [],
   "source": [
    "# parameters\n",
    "CRED_PATH = '../credentials.txt'\n",
    "\n",
    "RESPONSE_TABLE = 'dbo.AQ32RACE'\n",
    "CODE_TABLE = 'dbo.AQ32RACE_Codes'\n",
    "CLOSED_TABLE = 'dbo.Q32RACEMultiResponse'\n",
    "RESULTS_TABLE = 'AQ32RACE_RESULTS'\n",
    "\n",
    "RESPONSE_COLUMN = 'aq32race_combined'\n",
    "\n",
    "N_SYNTHETIC_MIXED = 50_000\n",
    "\n",
    "DELIMITER = 'μ' \n",
    "THRESHOLD = 0.5\n",
    "TENTATIVE_UPPER = 0.75\n",
    "TENTATIVE_LOWER = 0.25\n",
    "\n",
    "MODEL_FILE_PATH = '../models/Q32'"
   ]
  },
  {
   "cell_type": "code",
   "execution_count": null,
   "id": "2e3b9eac-0f68-42c4-8a58-c58a8afa02a5",
   "metadata": {},
   "outputs": [],
   "source": [
    "# Read in all data required to build model\n",
    "connection = connect.create_connection(CRED_PATH)\n",
    "\n",
    "# actual responses\n",
    "df_open = connect.fetch_table(RESPONSE_TABLE, connection)\n",
    "\n",
    "# codes to match\n",
    "code_df = connect.fetch_table(CODE_TABLE, connection)\n",
    "\n",
    "# closed respones (for multi response frequencies)\n",
    "df_closed = connect.fetch_table(CLOSED_TABLE, connection)"
   ]
  },
  {
   "cell_type": "code",
   "execution_count": null,
   "id": "dded3ff3-b997-494a-b887-01f77e391859",
   "metadata": {},
   "outputs": [],
   "source": [
    "# for training purposes, open responses should only be those from cycle 1\n",
    "df = df_open[df_open.cycle == 1].reset_index(drop=True)\n",
    "df.head()"
   ]
  },
  {
   "cell_type": "code",
   "execution_count": null,
   "id": "8b73ddec-8670-4cee-81c2-74ebb547d425",
   "metadata": {},
   "outputs": [],
   "source": [
    "# get a cleaned up column to use (mix of actual comment column and cleaned)\n",
    "# question : will the cleaned column always be available? or add in extra preprocessing here\n",
    "df.loc[:, RESPONSE_COLUMN] = df.apply(\n",
    "    lambda x: x.aq32race.lower() if x.aq32race_cleaned == None or x.aq32race_cleaned=='105' else x.aq32race_cleaned.lower(), \n",
    "    axis=1\n",
    ")\n",
    "\n",
    "# fix the spelling to send to the model \n",
    "# note this takes a long time to do, so don't add it to the get_scores function\n",
    "df.loc[:, RESPONSE_COLUMN] = df[RESPONSE_COLUMN].apply(preprocess.correct_spelling)\n",
    "\n",
    "df.head()"
   ]
  },
  {
   "cell_type": "code",
   "execution_count": null,
   "id": "828d4b39-bced-4f02-959f-2a28c8c32128",
   "metadata": {},
   "outputs": [],
   "source": [
    "# get long form table of codes\n",
    "code_df_long = preprocess.get_long_form_codes(code_df)\n",
    "code_df_long.head()"
   ]
  },
  {
   "cell_type": "code",
   "execution_count": null,
   "id": "8403176f-edc3-41fc-874d-ac205109ed20",
   "metadata": {},
   "outputs": [],
   "source": [
    "# build a training dataset for the model \n",
    "# first part of dataset: actual data\n",
    "\n",
    "# INPUTS TO MODEL\n",
    "headers = list(preprocess.get_scores('test', code_df_long, as_df = True).col_id.values)\n",
    "\n",
    "input_df = preprocess.get_scores_from_df(df, RESPONSE_COLUMN, code_df_long, headers=headers)\n",
    "display(input_df.head())\n",
    "\n",
    "# OUTPUTS OF MODEL\n",
    "# converts the coded columns into wide form 1/0 binary responses for every option \n",
    "output_df = preprocess.get_outputs_wide(df, RESPONSE_COLUMN, code_df_long)\n",
    "output_df.head()"
   ]
  },
  {
   "cell_type": "code",
   "execution_count": null,
   "id": "01465766-e2cc-4573-a710-b0283536714d",
   "metadata": {},
   "outputs": [],
   "source": [
    "# create synthetic data\n",
    "# this section will create synthetic data that matches a single category based on available phrases \n",
    "input_columns = list(input_df.columns)\n",
    "output_columns = list(output_df.columns)\n",
    "\n",
    "extra_input_df, extra_output_df = synthetic.create_single_phrase_synthetic(\n",
    "    output_df, \n",
    "    input_columns,\n",
    "    output_columns,\n",
    "    code_df_long\n",
    ")"
   ]
  },
  {
   "cell_type": "code",
   "execution_count": null,
   "id": "fa5508d1-ad22-4c7b-99df-b8f6330783d4",
   "metadata": {},
   "outputs": [],
   "source": [
    "# create synthetic data\n",
    "# this section will create synthetic data that matches multiple categories\n",
    "mixed_input_df, mixed_output_df = synthetic.create_multi_phrase_synthetic(\n",
    "    output_df,\n",
    "    df_closed,\n",
    "    input_columns,\n",
    "    output_columns,\n",
    "    code_df_long,\n",
    "    N_SYNTHETIC_MIXED\n",
    ")"
   ]
  },
  {
   "cell_type": "code",
   "execution_count": null,
   "id": "06945ae7",
   "metadata": {},
   "outputs": [],
   "source": [
    "# Concatenate with existing data\n",
    "final_input_df = pd.concat([input_df, extra_input_df, mixed_input_df], ignore_index=True).drop('response', axis=1).astype(int)\n",
    "final_output_df = pd.concat([output_df, extra_output_df, mixed_output_df], ignore_index=True).drop('response', axis=1).astype(int)"
   ]
  },
  {
   "cell_type": "code",
   "execution_count": null,
   "id": "b73f9711-5f8a-43df-acdc-fa828a8bb4bb",
   "metadata": {},
   "outputs": [],
   "source": [
    "clf = model.create_model(final_input_df, final_output_df)"
   ]
  },
  {
   "cell_type": "code",
   "execution_count": null,
   "id": "d41ce80e-8f72-484f-937d-1d573195f327",
   "metadata": {},
   "outputs": [],
   "source": [
    "model.save_model(MODEL_FILE_PATH, clf, code_df_long)"
   ]
  },
  {
   "cell_type": "code",
   "execution_count": null,
   "id": "2d0a3f42-0c71-4cb4-9eeb-10f8a9871bd7",
   "metadata": {},
   "outputs": [],
   "source": [
    "clf, code_df_long = model.load_model(MODEL_FILE_PATH)"
   ]
  },
  {
   "cell_type": "code",
   "execution_count": null,
   "id": "9e0b02e4-286c-4e6d-a625-9f26c89000aa",
   "metadata": {},
   "outputs": [],
   "source": [
    "sentence = 'chinese, japanese, korean'\n",
    "model.list_classes(sentence, code_df_long, clf, spellcheck=True)"
   ]
  },
  {
   "cell_type": "code",
   "execution_count": null,
   "id": "83291026-be4d-4ff0-a5b7-5854e1eba0a9",
   "metadata": {},
   "outputs": [],
   "source": [
    "results_df = model.produce_results(\n",
    "    df, input_df, output_df, \n",
    "    clf,\n",
    "    threshold=THRESHOLD,\n",
    "    tentative_lower = TENTATIVE_LOWER,\n",
    "    tentative_upper = TENTATIVE_UPPER,\n",
    "    delimiter = DELIMITER\n",
    ")"
   ]
  },
  {
   "cell_type": "code",
   "execution_count": null,
   "id": "dafc51ce-eb1c-415c-a31d-bbe3947be9d3",
   "metadata": {},
   "outputs": [],
   "source": [
    "# save back to database\n",
    "engine = connect.create_connection(CRED_PATH, sqlalchemy=True)\n",
    "\n",
    "# for initial save of cycle 1, always replace. any subsequent inputs should be appended\n",
    "connect.save_table(results_df, RESULTS_TABLE, engine, how='replace')"
   ]
  },
  {
   "cell_type": "code",
   "execution_count": null,
   "id": "5da7646d-d6f8-4cf2-be0b-196dbff66ff8",
   "metadata": {},
   "outputs": [],
   "source": []
  }
 ],
 "metadata": {
  "kernelspec": {
   "display_name": "Python 3 (ipykernel)",
   "language": "python",
   "name": "python3"
  },
  "language_info": {
   "codemirror_mode": {
    "name": "ipython",
    "version": 3
   },
   "file_extension": ".py",
   "mimetype": "text/x-python",
   "name": "python",
   "nbconvert_exporter": "python",
   "pygments_lexer": "ipython3",
   "version": "3.10.12"
  }
 },
 "nbformat": 4,
 "nbformat_minor": 5
}

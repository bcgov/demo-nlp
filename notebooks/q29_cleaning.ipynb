{
 "cells": [
  {
   "cell_type": "markdown",
   "id": "a67d4b75-32c2-4c39-8bfd-afb78bf96c8f",
   "metadata": {},
   "source": [
    "Copyright 2023 Province of British Columbia\n",
    "\n",
    "Licensed under the Apache License, Version 2.0 (the \"License\");\n",
    "you may not use this file except in compliance with the License.\n",
    "You may obtain a copy of the License at \n",
    "\n",
    "   http://www.apache.org/licenses/LICENSE-2.0\n",
    "\n",
    "Unless required by applicable law or agreed to in writing, software\n",
    "distributed under the License is distributed on an \"AS IS\" BASIS,\n",
    "WITHOUT WARRANTIES OR CONDITIONS OF ANY KIND, either express or implied.\n",
    "See the License for the specific language governing permissions and\n",
    "limitations under he License.\n",
    "the License."
   ]
  },
  {
   "cell_type": "code",
   "execution_count": null,
   "id": "0b6dc5f5-e2df-47e2-ab43-3c49600290b1",
   "metadata": {},
   "outputs": [],
   "source": [
    "import pandas as pd\n",
    "from autocorrect import Speller\n",
    "\n",
    "# add our stuff to the path\n",
    "import sys\n",
    "import os\n",
    "import re\n",
    "sys.path.insert(1, os.path.join(sys.path[0], '..'))\n",
    "\n",
    "# import our stuff\n",
    "from importlib import reload\n",
    "from src import matching, connect\n",
    "\n",
    "import warnings\n",
    "warnings.simplefilter(action='ignore')"
   ]
  },
  {
   "cell_type": "code",
   "execution_count": null,
   "id": "250889a9-f63c-45c1-9bf6-eb0bd1073a89",
   "metadata": {},
   "outputs": [],
   "source": [
    "# PARAMETERS\n",
    "\n",
    "# info to gain access to database, IDIR restricted \n",
    "CRED_PATH = '../credentials.txt'\n",
    "\n",
    "# which tables to access\n",
    "RESPONSE_TABLE = 'dbo.AQ29LANG'\n",
    "CODE_TABLE = 'dbo.AQ29LANG_Codes'\n",
    "RESULTS_TABLE = 'dbo.AQ29LANG_RESULTS'\n",
    "\n",
    "# Which Cycle to work on \n",
    "CYCLE = 3"
   ]
  },
  {
   "cell_type": "code",
   "execution_count": null,
   "id": "71d40727-bdf4-462e-8630-90eb13c5faaf",
   "metadata": {},
   "outputs": [],
   "source": [
    "reload(matching)"
   ]
  },
  {
   "cell_type": "markdown",
   "id": "66c7fa5f-beac-4537-98fc-4ea41786dd6f",
   "metadata": {},
   "source": [
    "## Read in Data"
   ]
  },
  {
   "cell_type": "code",
   "execution_count": null,
   "id": "45bf3ed1-18d9-439d-9d2f-42108a965004",
   "metadata": {},
   "outputs": [],
   "source": [
    "# Read in all data required to build model\n",
    "connection = connect.create_connection(CRED_PATH)\n",
    "\n",
    "# actual responses\n",
    "df_open = connect.fetch_table(RESPONSE_TABLE, connection)\n",
    "\n",
    "# codes to match\n",
    "df_codes = connect.fetch_table(CODE_TABLE, connection)"
   ]
  },
  {
   "cell_type": "code",
   "execution_count": null,
   "id": "6dee417e-1763-4717-b664-df1eb508cb0f",
   "metadata": {},
   "outputs": [],
   "source": [
    "df_open.head()"
   ]
  },
  {
   "cell_type": "code",
   "execution_count": null,
   "id": "e85e8584-e464-44a2-8a2d-3a8b1863fe2c",
   "metadata": {},
   "outputs": [],
   "source": [
    "df_open.shape"
   ]
  },
  {
   "cell_type": "code",
   "execution_count": null,
   "id": "17dbaa61-fc0b-46fd-a310-fe8403851e17",
   "metadata": {},
   "outputs": [],
   "source": [
    "df_codes.head()"
   ]
  },
  {
   "cell_type": "code",
   "execution_count": null,
   "id": "ef2af2c0-d814-47ca-a5de-3caa8c90c3fb",
   "metadata": {},
   "outputs": [],
   "source": [
    "# for q29, some of the descriptions are hidden in the desc column - pull these out\n",
    "df_codes_dict = {\n",
    "    'q_code': [],\n",
    "    'qc_desc': []\n",
    "}\n",
    "\n",
    "for idx, row in df_codes.iterrows():\n",
    "    q_code = row.q_code\n",
    "    qc_desc = row.qc_desc\n",
    "\n",
    "    # roll indigenous bc languages into the same code\n",
    "    note = row.additional_notes\n",
    "    if note == 'Roll into 6':\n",
    "        q_code = '6'\n",
    "\n",
    "    # add portugalês in manually\n",
    "    if qc_desc == 'Portuguese':\n",
    "        df_codes_dict['q_code'].append(q_code)\n",
    "        df_codes_dict['qc_desc'].append('portugalês')\n",
    "\n",
    "    # split the qc desc to remove the word 'languages' \n",
    "    if qc_desc == 'Indigenous languages in B.C.':\n",
    "        df_codes_dict['q_code'].append(q_code)\n",
    "        df_codes_dict['qc_desc'].append(qc_desc)\n",
    "\n",
    "    else:\n",
    "        if qc_desc is not None:\n",
    "            code_list = matching.split_languages(qc_desc)\n",
    "            for code in code_list:\n",
    "                df_codes_dict['q_code'].append(q_code)\n",
    "                df_codes_dict['qc_desc'].append(code)\n",
    "\n",
    "    # get the responses from the optional row as well \n",
    "    qc_optional = row.qc_desc_notes\n",
    "    if not pd.isnull(qc_optional):\n",
    "        code_list = matching.split_languages(qc_optional)\n",
    "        for code in code_list:\n",
    "            df_codes_dict['q_code'].append(q_code)\n",
    "            df_codes_dict['qc_desc'].append(code)\n",
    "            \n",
    "\n",
    "# add some extras\n",
    "df_codes_dict['q_code'].append('1222101')\n",
    "df_codes_dict['qc_desc'].append('ASL')\n",
    "\n",
    "# remove duplicates\n",
    "df_codes_updated = pd.DataFrame(df_codes_dict)\n",
    "df_codes_updated = df_codes_updated.groupby('qc_desc').first().reset_index()"
   ]
  },
  {
   "cell_type": "code",
   "execution_count": null,
   "id": "a1f42e25-73e5-44a8-ba04-15cecc5c6164",
   "metadata": {},
   "outputs": [],
   "source": [
    "df_codes_updated"
   ]
  },
  {
   "cell_type": "code",
   "execution_count": null,
   "id": "59afeaf3-9c07-435a-a8bc-99498140fa15",
   "metadata": {
    "scrolled": true
   },
   "outputs": [],
   "source": [
    "code_list = df_codes_updated.qc_desc.values\n",
    "code_list"
   ]
  },
  {
   "cell_type": "code",
   "execution_count": null,
   "id": "291a1f97-bedb-4d6d-84f1-c9fe0b77c1d1",
   "metadata": {},
   "outputs": [],
   "source": [
    "# grab only the cycle of current interest\n",
    "df = df_open[df_open.cycle == CYCLE].reset_index(drop=True)"
   ]
  },
  {
   "cell_type": "code",
   "execution_count": null,
   "id": "dc448785-d47c-4173-92e4-b09a343f9887",
   "metadata": {},
   "outputs": [],
   "source": [
    "df.head()"
   ]
  },
  {
   "cell_type": "code",
   "execution_count": null,
   "id": "18fdf965-f89a-4a05-8b60-f8267e732e44",
   "metadata": {},
   "outputs": [],
   "source": [
    "df.shape"
   ]
  },
  {
   "cell_type": "code",
   "execution_count": null,
   "id": "c8f68386-cee4-4c22-85b8-1fc7d7504b0b",
   "metadata": {},
   "outputs": [],
   "source": [
    "df['response'] = df['aq29lang']"
   ]
  },
  {
   "cell_type": "code",
   "execution_count": null,
   "id": "1f152842-e61f-41e3-8428-e85de711ec45",
   "metadata": {},
   "outputs": [],
   "source": [
    "spell = Speller()\n",
    "\n",
    "# get a list of all words that are directly in the code words \n",
    "all_words = []\n",
    "for word in code_list:\n",
    "    words = re.split(r\"\\sand\\s|[,;()/\\r\\n\\s'-]+\", word)\n",
    "    for x in words:\n",
    "        if len(x) > 0:\n",
    "            all_words.append(x)\n",
    "            \n",
    "# add additional words that are not inaccurate \n",
    "words = [\n",
    "]\n",
    "\n",
    "for word in all_words + words:\n",
    "\n",
    "    for x in [word, word.upper(), word.lower()]:\n",
    "        if x in spell.nlp_data:\n",
    "            continue\n",
    "            \n",
    "        spell.nlp_data[word] = 1_000_000\n",
    "        spell.nlp_data[word.upper()] = 1_000_000\n",
    "        spell.nlp_data[word.lower()] = 1_000_000"
   ]
  },
  {
   "cell_type": "markdown",
   "id": "afa03dcc-a23d-4d94-be6f-9377e3e8794f",
   "metadata": {},
   "source": [
    "## Clean Data\n",
    "\n",
    "Transformation Steps:\n",
    "\n",
    "1. Clean html codes, remove trailing spaces\n",
    "2. Do a basic spell check, but include unusual words from our word list to make sure they don't incorrectly change\n",
    "3. Translate a subset of the responses - this takes a long time so only those that start with & (and are thus most likely a different language) are translated.\n",
    "4. Determine if the translated response is an exact or partial match to any of the codes in the code list\n",
    "5. For partial responses, remove as a possibility if it is just a subset of an exact response\n",
    "6. Tabulate all information for each response"
   ]
  },
  {
   "cell_type": "code",
   "execution_count": null,
   "id": "8202ccd9-6ecd-4e51-95b5-b32708dd0337",
   "metadata": {},
   "outputs": [],
   "source": [
    "reload(matching)"
   ]
  },
  {
   "cell_type": "code",
   "execution_count": null,
   "id": "b7aef257-44d8-4956-8f11-de8e4067ba2f",
   "metadata": {},
   "outputs": [],
   "source": [
    "clean_dict = {\n",
    "    'id': [],\n",
    "    'cycle': [],\n",
    "    'response': [], \n",
    "    'cleaned': [],\n",
    "    'translated': [],\n",
    "    'translation_code': [],\n",
    "    'exact_match': [],\n",
    "    'partial_match': [],\n",
    "    'exact_match_codes': [],\n",
    "    'partial_match_codes': [],\n",
    "    'likely_match_codes': [],\n",
    "    'q29lang_c01': [],\n",
    "    'q29lang_c02': [],\n",
    "    'q29lang_c03': [],\n",
    "    'q29lang_c04': []\n",
    "}\n",
    "\n",
    "n_rows = df.shape[0]\n",
    "\n",
    "for idx, row in df.iterrows():\n",
    "\n",
    "    x = row.response\n",
    "    id = row.id\n",
    "    cycle = row.cycle\n",
    "    (response, \n",
    "     cleaned, translated, response_code, \n",
    "     has_exact, has_partial, \n",
    "     exact_match_codes, partial_match_codes, likely_match_codes) = matching.do_the_things(x, spell, code_list, translate_all = False)\n",
    "\n",
    "    clean_dict['id'].append(id)\n",
    "    clean_dict['cycle'].append(cycle)\n",
    "    clean_dict['response'].append(response)    \n",
    "    clean_dict['cleaned'].append(cleaned)\n",
    "    clean_dict['translated'].append(translated)\n",
    "    clean_dict['translation_code'].append(response_code)\n",
    "    clean_dict['exact_match'].append(has_exact)\n",
    "    clean_dict['partial_match'].append(has_partial)\n",
    "    clean_dict['exact_match_codes'].append(exact_match_codes)\n",
    "    clean_dict['partial_match_codes'].append(partial_match_codes)\n",
    "    clean_dict['likely_match_codes'].append(likely_match_codes)\n",
    "\n",
    "    # code version of new codes \n",
    "    new_codes = []\n",
    "    split_codes = likely_match_codes.split(', ')\n",
    "    for code in split_codes:\n",
    "        if code != '':\n",
    "            new_codes.append(df_codes_updated[df_codes_updated.qc_desc.str.lower() == code.lower()].q_code.values[0])\n",
    "\n",
    "    # remove 97 from list of codes included\n",
    "    existing_codes = []\n",
    "    for ii in range(1,5):\n",
    "        col_name = f'q29lang_c0{ii}'\n",
    "        val = row[col_name]\n",
    "        if not pd.isnull(val):\n",
    "            if val!='97':\n",
    "                existing_codes.append(val)\n",
    "\n",
    "    # add new codes into code columns\n",
    "    all_codes = existing_codes + new_codes \n",
    "    for jj in range(1, 5):\n",
    "        col_name = f'q29lang_c0{jj}'\n",
    "        if jj <= len(all_codes):\n",
    "            clean_dict[col_name].append(all_codes[jj-1])\n",
    "        else:\n",
    "            clean_dict[col_name].append(None)\n",
    "    \n",
    "    pct_done = int(round(100*(idx+1)/n_rows))\n",
    "    print_line = f'{idx+1:07,}/{n_rows:07,}   |' + '-'*(pct_done) + '>' + ' '*(100-pct_done) + '|'\n",
    "    print(print_line, end = '\\r')"
   ]
  },
  {
   "cell_type": "code",
   "execution_count": null,
   "id": "46b5f572-1b8f-4643-8311-9545bb118516",
   "metadata": {},
   "outputs": [],
   "source": [
    "clean_df = pd.DataFrame(clean_dict)"
   ]
  },
  {
   "cell_type": "code",
   "execution_count": null,
   "id": "a43b4f4c-4207-4de7-ac69-05c2d4665981",
   "metadata": {},
   "outputs": [],
   "source": [
    "# make sure we are in the right order\n",
    "clean_df = clean_df[\n",
    "    [\n",
    "        'id', \n",
    "        'cycle',\n",
    "        'response',\n",
    "        'cleaned',\n",
    "        'translated',\n",
    "        'translation_code',\n",
    "        'exact_match',\n",
    "        'partial_match',\n",
    "        'exact_match_codes',\n",
    "        'partial_match_codes',\n",
    "        'likely_match_codes',\n",
    "        'q29lang_c01',\n",
    "        'q29lang_c02',\n",
    "        'q29lang_c03',\n",
    "        'q29lang_c04',\n",
    "    ]\n",
    "]"
   ]
  },
  {
   "cell_type": "code",
   "execution_count": null,
   "id": "477ba7f8-40f3-4881-9c54-77316ba6e6fb",
   "metadata": {},
   "outputs": [],
   "source": [
    "clean_df"
   ]
  },
  {
   "cell_type": "code",
   "execution_count": null,
   "id": "05b92dae-4a46-42a1-9eb7-45da12c2881b",
   "metadata": {},
   "outputs": [],
   "source": [
    "exact = clean_df.exact_match.sum()\n",
    "n_rows = clean_df.shape[0]\n",
    "partial_no_exact = clean_df[~clean_df.exact_match].partial_match.sum()\n",
    "n_rows_no_exact = clean_df[~clean_df.exact_match].shape[0]\n",
    "print(f'Exact Matches: {exact:,}/{n_rows:,} ({exact/n_rows:.0%})')\n",
    "print(f'Partial Matches: {partial_no_exact:,}/{n_rows_no_exact:,} ({partial_no_exact/n_rows_no_exact:.0%})')\n",
    "print(f'Leftover: {n_rows - exact - partial_no_exact:,}/{n_rows:,} ({(n_rows - exact - partial_no_exact)/n_rows:.0%})')"
   ]
  },
  {
   "cell_type": "code",
   "execution_count": null,
   "id": "fa4b94e5-047d-4e36-9f80-30fdc41c77d2",
   "metadata": {},
   "outputs": [],
   "source": [
    "# send back to warehouse \n",
    "engine = connect.create_connection(CRED_PATH, sqlalchemy=True)\n",
    "connect.save_table(clean_df, RESULTS_TABLE, engine, how='append')"
   ]
  },
  {
   "cell_type": "markdown",
   "id": "dbcfc6ec-8b93-4116-8fe9-7832465b3c1f",
   "metadata": {},
   "source": [
    "## Get Frequencies of Common 'Other' Response Words"
   ]
  },
  {
   "cell_type": "code",
   "execution_count": null,
   "id": "b19ff62b-74d9-4175-bfbd-d3def7203970",
   "metadata": {},
   "outputs": [],
   "source": [
    "leftover = clean_df[~clean_df.exact_match & ~clean_df.partial_match].translated.values"
   ]
  },
  {
   "cell_type": "code",
   "execution_count": null,
   "id": "7f7ec9ba-0813-4579-8ae2-6d5fff232b65",
   "metadata": {},
   "outputs": [],
   "source": [
    "clean_df[~clean_df.exact_match & ~clean_df.partial_match]"
   ]
  },
  {
   "cell_type": "code",
   "execution_count": null,
   "id": "ce885c74-367f-45e1-84c6-c4a01e2c476c",
   "metadata": {},
   "outputs": [],
   "source": [
    "frequencies = matching.tokenize_and_count_word_frequencies(leftover)"
   ]
  },
  {
   "cell_type": "code",
   "execution_count": null,
   "id": "2da6b77f-eb23-4880-bde1-da313dfd1970",
   "metadata": {},
   "outputs": [],
   "source": [
    "frequencies"
   ]
  },
  {
   "cell_type": "code",
   "execution_count": null,
   "id": "3c9d9f0e-5b67-4c9f-9477-2fca432e6352",
   "metadata": {},
   "outputs": [],
   "source": [
    "df_freq = pd.DataFrame(data = [frequencies.keys(), frequencies.values()], index = ['word', 'frequency']).T"
   ]
  },
  {
   "cell_type": "code",
   "execution_count": null,
   "id": "d856a741-9689-473e-8266-7e4a3774d899",
   "metadata": {},
   "outputs": [],
   "source": [
    "df_freq = df_freq.sort_values(by='frequency', ascending=False)"
   ]
  },
  {
   "cell_type": "code",
   "execution_count": null,
   "id": "30b1cd21-1a4f-43bb-95bd-a258c05a50a1",
   "metadata": {},
   "outputs": [],
   "source": [
    "# send frequencies back for possible inclusion into codes\n",
    "engine = connect.create_connection(CRED_PATH, sqlalchemy=True)\n",
    "connect.save_table(df_freq, 'dbo.AQ29LANG_FREQUENCIES', engine, how='replace')"
   ]
  },
  {
   "cell_type": "code",
   "execution_count": null,
   "id": "3d9a2d41-33c1-4206-8c4d-8f02937ae28c",
   "metadata": {},
   "outputs": [],
   "source": []
  }
 ],
 "metadata": {
  "kernelspec": {
   "display_name": "Python 3 (ipykernel)",
   "language": "python",
   "name": "python3"
  },
  "language_info": {
   "codemirror_mode": {
    "name": "ipython",
    "version": 3
   },
   "file_extension": ".py",
   "mimetype": "text/x-python",
   "name": "python",
   "nbconvert_exporter": "python",
   "pygments_lexer": "ipython3",
   "version": "3.10.12"
  }
 },
 "nbformat": 4,
 "nbformat_minor": 5
}

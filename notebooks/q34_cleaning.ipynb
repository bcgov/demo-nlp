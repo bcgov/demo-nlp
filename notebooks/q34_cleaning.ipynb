{
 "cells": [
  {
   "cell_type": "code",
   "execution_count": null,
   "id": "0b6dc5f5-e2df-47e2-ab43-3c49600290b1",
   "metadata": {},
   "outputs": [],
   "source": [
    "import pandas as pd\n",
    "from autocorrect import Speller\n",
    "\n",
    "# add our stuff to the path\n",
    "import sys\n",
    "import os\n",
    "import re\n",
    "sys.path.insert(1, os.path.join(sys.path[0], '..'))\n",
    "\n",
    "# import our stuff\n",
    "from importlib import reload\n",
    "from src import q34\n",
    "\n",
    "import warnings\n",
    "warnings.simplefilter(action='ignore')"
   ]
  },
  {
   "cell_type": "code",
   "execution_count": null,
   "id": "71d40727-bdf4-462e-8630-90eb13c5faaf",
   "metadata": {},
   "outputs": [],
   "source": [
    "reload(q34)"
   ]
  },
  {
   "cell_type": "code",
   "execution_count": null,
   "id": "45bf3ed1-18d9-439d-9d2f-42108a965004",
   "metadata": {},
   "outputs": [],
   "source": [
    "path = \"../data/AQ34CULTURE 20230908.xlsx\""
   ]
  },
  {
   "cell_type": "code",
   "execution_count": null,
   "id": "6dee417e-1763-4717-b664-df1eb508cb0f",
   "metadata": {},
   "outputs": [],
   "source": [
    "df = pd.read_excel(path)"
   ]
  },
  {
   "cell_type": "code",
   "execution_count": null,
   "id": "59afeaf3-9c07-435a-a8bc-99498140fa15",
   "metadata": {},
   "outputs": [],
   "source": [
    "df_codes = pd.read_excel(path, sheet_name=1)\n",
    "df_codes.head()\n",
    "code_list = df_codes.iloc[:, 0].values\n",
    "code_list"
   ]
  },
  {
   "cell_type": "code",
   "execution_count": null,
   "id": "291a1f97-bedb-4d6d-84f1-c9fe0b77c1d1",
   "metadata": {},
   "outputs": [],
   "source": [
    "df.columns = ['response']"
   ]
  },
  {
   "cell_type": "code",
   "execution_count": null,
   "id": "50f86cbb-5211-4cab-9c82-453e021a7b85",
   "metadata": {},
   "outputs": [],
   "source": [
    "df.response = df.response.astype(str)"
   ]
  },
  {
   "cell_type": "code",
   "execution_count": null,
   "id": "1f152842-e61f-41e3-8428-e85de711ec45",
   "metadata": {},
   "outputs": [],
   "source": [
    "spell = Speller()\n",
    "\n",
    "# get a list of all words that are directly in the code words \n",
    "all_words = []\n",
    "for word in code_list:\n",
    "    words = re.split(r'\\sand\\s|[,;()/\\r\\n\\s]+', word)\n",
    "    for x in words:\n",
    "        if len(x) > 0:\n",
    "            all_words.append(x)\n",
    "            \n",
    "# add additional words that are not inaccurate \n",
    "words = [\n",
    "    'Salish', \n",
    "    'Collectivist', \n",
    "    'Konger', \n",
    "    'Kong', \n",
    "    'Slavic', \n",
    "    'Colonizer', \n",
    "    'Tagalog', \n",
    "    'Syilx', \n",
    "    'Panasian', \n",
    "    'Malayali', \n",
    "    'Jatt', \n",
    "    'Metis',\n",
    "    'Romani',\n",
    "    'Slovak',\n",
    "    'Ilocano'\n",
    "]\n",
    "\n",
    "for word in all_words + words:\n",
    "\n",
    "    for x in [word, word.upper(), word.lower()]:\n",
    "        if x in spell.nlp_data:\n",
    "            continue\n",
    "            \n",
    "        spell.nlp_data[word] = 100\n",
    "        spell.nlp_data[word.upper()] = 100\n",
    "        spell.nlp_data[word.lower()] = 100"
   ]
  },
  {
   "cell_type": "code",
   "execution_count": null,
   "id": "b7aef257-44d8-4956-8f11-de8e4067ba2f",
   "metadata": {},
   "outputs": [],
   "source": [
    "clean_dict = {\n",
    "    'response': [], \n",
    "    'cleaned': [],\n",
    "    #'translated': [],\n",
    "    #'code': [],\n",
    "    'exact_match': [],\n",
    "    'partial_match': [],\n",
    "    'exact_match_codes': [],\n",
    "    'partial_match_codes': [],\n",
    "    'likely_match_codes': []\n",
    "}\n",
    "\n",
    "n_rows = df.shape[0]\n",
    "\n",
    "for idx, row in df.iterrows():\n",
    "\n",
    "    x = row.response\n",
    "    response, cleaned, has_exact, has_partial, exact_match_codes, partial_match_codes, likely_match_codes = q34.do_the_things(x, spell, code_list)\n",
    "    \n",
    "    clean_dict['response'].append(response)\n",
    "    clean_dict['cleaned'].append(cleaned)\n",
    "    #clean_dict['translated'].append(translated)\n",
    "    #clean_dict['code'].append(response_code)\n",
    "    clean_dict['exact_match'].append(has_exact)\n",
    "    clean_dict['partial_match'].append(has_partial)\n",
    "    clean_dict['exact_match_codes'].append(exact_match_codes)\n",
    "    clean_dict['partial_match_codes'].append(partial_match_codes)\n",
    "    clean_dict['likely_match_codes'].append(likely_match_codes)\n",
    "    \n",
    "    pct_done = int(round(100*(idx+1)/n_rows))\n",
    "    print_line = f'{idx+1:07,}/{n_rows:07,}   |' + '-'*(pct_done) + '>' + ' '*(100-pct_done) + '|'\n",
    "    print(print_line, end = '\\r')"
   ]
  },
  {
   "cell_type": "code",
   "execution_count": null,
   "id": "46b5f572-1b8f-4643-8311-9545bb118516",
   "metadata": {},
   "outputs": [],
   "source": [
    "clean_df = pd.DataFrame(clean_dict)"
   ]
  },
  {
   "cell_type": "code",
   "execution_count": null,
   "id": "477ba7f8-40f3-4881-9c54-77316ba6e6fb",
   "metadata": {},
   "outputs": [],
   "source": [
    "clean_df"
   ]
  },
  {
   "cell_type": "code",
   "execution_count": null,
   "id": "05b92dae-4a46-42a1-9eb7-45da12c2881b",
   "metadata": {},
   "outputs": [],
   "source": [
    "exact = clean_df.exact_match.sum()\n",
    "n_rows = clean_df.shape[0]\n",
    "partial_no_exact = clean_df[~clean_df.exact_match].partial_match.sum()\n",
    "n_rows_no_exact = clean_df[~clean_df.exact_match].shape[0]\n",
    "print(f'Exact Matches: {exact:,}/{n_rows:,} ({exact/n_rows:.0%})')\n",
    "print(f'Partial Matches: {partial_no_exact:,}/{n_rows_no_exact:,} ({partial_no_exact/n_rows_no_exact:.0%})')\n",
    "print(f'Leftover: {n_rows - exact - partial_no_exact:,}/{n_rows:,} ({(n_rows - exact - partial_no_exact)/n_rows:.0%})')"
   ]
  },
  {
   "cell_type": "code",
   "execution_count": null,
   "id": "fa4b94e5-047d-4e36-9f80-30fdc41c77d2",
   "metadata": {},
   "outputs": [],
   "source": [
    "with pd.ExcelWriter(path, mode='a', if_sheet_exists='replace') as writer:\n",
    "    clean_df.to_excel(writer, sheet_name = 'Responses - Cleaned', index=False)"
   ]
  },
  {
   "cell_type": "code",
   "execution_count": null,
   "id": "e36f8c91-3017-4c44-9a0c-ac555e4a9461",
   "metadata": {},
   "outputs": [],
   "source": []
  }
 ],
 "metadata": {
  "kernelspec": {
   "display_name": "Python 3 (ipykernel)",
   "language": "python",
   "name": "python3"
  },
  "language_info": {
   "codemirror_mode": {
    "name": "ipython",
    "version": 3
   },
   "file_extension": ".py",
   "mimetype": "text/x-python",
   "name": "python",
   "nbconvert_exporter": "python",
   "pygments_lexer": "ipython3",
   "version": "3.10.12"
  }
 },
 "nbformat": 4,
 "nbformat_minor": 5
}

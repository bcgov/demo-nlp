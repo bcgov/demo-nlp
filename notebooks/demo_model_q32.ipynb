{
 "cells": [
  {
   "cell_type": "markdown",
   "id": "f6d0cb4c-a1fa-4736-9053-59d32cb6456c",
   "metadata": {},
   "source": [
    "Copyright 2023 Province of British Columbia\n",
    "\n",
    "Licensed under the Apache License, Version 2.0 (the \"License\");\n",
    "you may not use this file except in compliance with the License.\n",
    "You may obtain a copy of the License at \n",
    "\n",
    "   http://www.apache.org/licenses/LICENSE-2.0\n",
    "\n",
    "Unless required by applicable law or agreed to in writing, software\n",
    "distributed under the License is distributed on an \"AS IS\" BASIS,\n",
    "WITHOUT WARRANTIES OR CONDITIONS OF ANY KIND, either express or implied.\n",
    "See the License for the specific language governing permissions and\n",
    "limitations under the License."
   ]
  },
  {
   "cell_type": "code",
   "execution_count": null,
   "id": "55c48dd5-971d-4078-b759-f0fe83ba6156",
   "metadata": {},
   "outputs": [],
   "source": [
    "# add our stuff to the path\n",
    "import sys\n",
    "import os\n",
    "sys.path.insert(1, os.path.join(sys.path[0], '..'))\n",
    "\n",
    "# other stuff\n",
    "import time\n",
    "\n",
    "# import our stuff\n",
    "from importlib import reload\n",
    "from src import connect, preprocess, synthetic, model"
   ]
  },
  {
   "cell_type": "code",
   "execution_count": null,
   "id": "a79b63c3-7bb0-40b2-88b9-e22ca1ded814",
   "metadata": {},
   "outputs": [],
   "source": [
    "# PARAMETERS\n",
    "\n",
    "# info to gain access to database, IDIR restricted \n",
    "CRED_PATH = '../credentials.txt'\n",
    "\n",
    "# where model is stored. requires credentials.txt for full path \n",
    "MODEL_BASE_PATH = 'Model/Q32'\n",
    "\n",
    "# which tables to access\n",
    "RESPONSE_TABLE = 'dbo.AQ32RACE'\n",
    "RESULTS_TABLE = 'AQ32RACE_RESULTS'\n",
    "\n",
    "# which column to use/create \n",
    "RESPONSE_COLUMN = 'aq32race_combined'\n",
    "\n",
    "# delimiter to send back with concatenated results\n",
    "DELIMITER = 'μ' \n",
    "\n",
    "# threshold for accepting as a flagged category\n",
    "THRESHOLD = 0.5\n",
    "\n",
    "# upper and lower thresholds for flagging as a possible category\n",
    "TENTATIVE_UPPER = 0.75\n",
    "TENTATIVE_LOWER = 0.25"
   ]
  },
  {
   "cell_type": "markdown",
   "id": "991fd441-a588-4b1a-a663-22481cb72dad",
   "metadata": {},
   "source": [
    "## Full Model Pipeline\n",
    "\n",
    "1. Read in data from database (IDIR restricted)\n",
    "2. Load in model (from LAN)\n",
    "3. Preprocess data (code stored on GitHub)\n",
    "    \n",
    "    * Limit to cycle of interest\n",
    "    * Lower case and cleaned spelling where possible\n",
    "    * Turn responses into word scores (how close is each response to every word in the vocabulary code base). <br>\n",
    "    <br>\n",
    "\n",
    "4. Create predictions based on word scores\n",
    "5. Re-incorprate multiple-choice responses\n",
    "6. Add flag(s) for unusual model outputs\n",
    "    \n",
    "    * Was no category predicted\n",
    "    * Are there model outputs in an 'iffy' probability range <br>\n",
    "    <br>\n",
    "\n",
    "7. Send results back to database (IDIR restricted)"
   ]
  },
  {
   "cell_type": "code",
   "execution_count": null,
   "id": "dded3ff3-b997-494a-b887-01f77e391859",
   "metadata": {},
   "outputs": [],
   "source": [
    "# FULL MODEL PIPELINE\n",
    "\n",
    "cycle = 2\n",
    "\n",
    "######################\n",
    "#                    #\n",
    "#    READ IN DATA    #\n",
    "#                    #\n",
    "######################\n",
    "print(f'Reading in data for cycle {cycle}... ', end = '')\n",
    "\n",
    "connection = connect.create_connection(CRED_PATH)\n",
    "df_open = connect.fetch_table(RESPONSE_TABLE, connection)\n",
    "\n",
    "print('Done.')\n",
    "\n",
    "######################\n",
    "#                    #\n",
    "#    LOAD MODEL      #\n",
    "#                    #\n",
    "######################\n",
    "print('Loading model from file... ', end = '')\n",
    "\n",
    "clf, code_df_long = model.load_model(CRED_PATH, MODEL_BASE_PATH)\n",
    "print('Done.')\n",
    "\n",
    "######################\n",
    "#                    #\n",
    "#  PREPROCESS DATA   #\n",
    "#                    #\n",
    "######################\n",
    "print('Preprocessing data... ', end = '')\n",
    "\n",
    "# get cycle\n",
    "df = df_open[df_open.cycle == cycle].reset_index(drop=True)\n",
    "\n",
    "# clean column\n",
    "df.loc[:, RESPONSE_COLUMN] = df.apply(\n",
    "    lambda x: x.aq32race.lower() if x.aq32race_cleaned == None or x.aq32race_cleaned=='105' else x.aq32race_cleaned.lower(), \n",
    "    axis=1\n",
    ")\n",
    "\n",
    "# fix spelling\n",
    "df.loc[:, RESPONSE_COLUMN] = df[RESPONSE_COLUMN].apply(preprocess.correct_spelling)\n",
    "print('Done.')\n",
    "\n",
    "print('Creating model inputs... ', end = '')\n",
    "# inputs to model\n",
    "headers = list(preprocess.get_scores('test', code_df_long, as_df = True).col_id.values)\n",
    "input_df = preprocess.get_scores_from_df(df, RESPONSE_COLUMN, code_df_long, headers=headers)\n",
    "print('Done.')\n",
    "\n",
    "# outputs of model (for selected responses to be included)\n",
    "print('Creating selected response outputs... ', end = '')\n",
    "output_df = preprocess.get_outputs_wide(df, RESPONSE_COLUMN, code_df_long)\n",
    "print('Done.')\n",
    "\n",
    "######################\n",
    "#                    #\n",
    "#     RUN MODEL      #\n",
    "#                    #\n",
    "######################\n",
    "print('Running model and extracting results... ')\n",
    "results_df = model.produce_results(\n",
    "    df, input_df, output_df, \n",
    "    clf,\n",
    "    threshold=THRESHOLD,\n",
    "    tentative_lower = TENTATIVE_LOWER,\n",
    "    tentative_upper = TENTATIVE_UPPER,\n",
    "    delimiter = DELIMITER\n",
    ")\n",
    "print('\\nDone.')"
   ]
  },
  {
   "cell_type": "code",
   "execution_count": null,
   "id": "ab49a22a-dd57-4832-80de-33d1d28b8602",
   "metadata": {},
   "outputs": [],
   "source": [
    "results_df.head()"
   ]
  },
  {
   "cell_type": "code",
   "execution_count": null,
   "id": "6e71c9ba-920a-4bb7-aff5-0ce04a0241c0",
   "metadata": {},
   "outputs": [],
   "source": [
    "# flag those that added no model categories\n",
    "results_df[results_df.n_model_categories==0]"
   ]
  },
  {
   "cell_type": "code",
   "execution_count": null,
   "id": "a581665d-aa19-46ec-9ab0-f5e4772df1b5",
   "metadata": {},
   "outputs": [],
   "source": [
    "# flag those that have outputs in the 25-75% range\n",
    "results_df[results_df.tentative_categories.notna()]"
   ]
  },
  {
   "cell_type": "markdown",
   "id": "887f541d-71c6-47c4-ac99-3e579969770b",
   "metadata": {},
   "source": [
    "## Example Outputs"
   ]
  },
  {
   "cell_type": "code",
   "execution_count": null,
   "id": "ec042956-82e2-4859-a001-26fe8a06e2c3",
   "metadata": {},
   "outputs": [],
   "source": [
    "# most common response\n",
    "sentence = 'canadian'\n",
    "model.list_classes(sentence, code_df_long, clf)"
   ]
  },
  {
   "cell_type": "code",
   "execution_count": null,
   "id": "d6f06e99-3070-472f-89c9-d6e98aa66f03",
   "metadata": {},
   "outputs": [],
   "source": [
    "# misspelling\n",
    "sentence = 'canadien'\n",
    "model.list_classes(sentence, code_df_long, clf)"
   ]
  },
  {
   "cell_type": "code",
   "execution_count": null,
   "id": "c62c18c1-2142-42c0-82b7-9fee565b9d92",
   "metadata": {},
   "outputs": [],
   "source": [
    "# multiple responses\n",
    "sentence = 'black, canadian'\n",
    "model.list_classes(sentence, code_df_long, clf)"
   ]
  },
  {
   "cell_type": "code",
   "execution_count": null,
   "id": "0932aedf-a2c3-4885-8622-23696fb507f9",
   "metadata": {},
   "outputs": [],
   "source": [
    "# multiple responses begins to become iffy if you include too many categories\n",
    "sentence = 'black, canadian, white, spanish'\n",
    "model.list_classes(sentence, code_df_long, clf)"
   ]
  },
  {
   "cell_type": "code",
   "execution_count": null,
   "id": "c00a26ff-6a55-435c-9bd8-4f211619b693",
   "metadata": {},
   "outputs": [],
   "source": [
    "# doesn't confuse afro-canadian and canadian (eg)\n",
    "sentence = 'afro-canadian'\n",
    "model.list_classes(sentence, code_df_long, clf)"
   ]
  },
  {
   "cell_type": "code",
   "execution_count": null,
   "id": "8495a228-86b9-43b7-9d38-614ef64be41e",
   "metadata": {},
   "outputs": [],
   "source": []
  }
 ],
 "metadata": {
  "kernelspec": {
   "display_name": "Python 3 (ipykernel)",
   "language": "python",
   "name": "python3"
  },
  "language_info": {
   "codemirror_mode": {
    "name": "ipython",
    "version": 3
   },
   "file_extension": ".py",
   "mimetype": "text/x-python",
   "name": "python",
   "nbconvert_exporter": "python",
   "pygments_lexer": "ipython3",
   "version": "3.10.12"
  }
 },
 "nbformat": 4,
 "nbformat_minor": 5
}

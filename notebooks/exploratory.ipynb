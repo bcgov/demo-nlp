{
 "cells": [
  {
   "cell_type": "code",
   "execution_count": null,
   "id": "55c48dd5-971d-4078-b759-f0fe83ba6156",
   "metadata": {},
   "outputs": [],
   "source": [
    "# system stuff\n",
    "import re\n",
    "import os\n",
    "import random\n",
    "\n",
    "# connection stuff\n",
    "import pyodbc\n",
    "\n",
    "# standard stuff\n",
    "import pandas as pd\n",
    "import numpy as np\n",
    "\n",
    "# nlp stuff\n",
    "import fuzzywuzzy\n",
    "from fuzzywuzzy import fuzz\n",
    "from fuzzywuzzy import process\n",
    "\n",
    "# ml stuff\n",
    "from sklearn.linear_model import LogisticRegression\n",
    "from sklearn.ensemble import RandomForestClassifier"
   ]
  },
  {
   "cell_type": "code",
   "execution_count": null,
   "id": "198f661c-05d7-40e4-895e-5e0342afcec4",
   "metadata": {},
   "outputs": [],
   "source": [
    "match = 'afro-canadian'\n",
    "test = 'canadian'\n",
    "\n",
    "print(fuzz.ratio(match, test))\n",
    "print(fuzz.partial_ratio(match, test))\n",
    "print(fuzz.token_sort_ratio(match, test))\n",
    "print(fuzz.token_set_ratio(match, test))"
   ]
  },
  {
   "cell_type": "code",
   "execution_count": null,
   "id": "2e3b9eac-0f68-42c4-8a58-c58a8afa02a5",
   "metadata": {},
   "outputs": [],
   "source": [
    "cred_path = '../credentials.txt'\n",
    "\n",
    "connection_str = ''\n",
    "with open(cred_path) as infile:\n",
    "    for line in infile:\n",
    "        connection_str += line.strip('\\n')"
   ]
  },
  {
   "cell_type": "code",
   "execution_count": null,
   "id": "b866985a-980f-461e-80da-9a1ecad26782",
   "metadata": {},
   "outputs": [],
   "source": [
    "connection = pyodbc.connect(connection_str)"
   ]
  },
  {
   "cell_type": "code",
   "execution_count": null,
   "id": "059f32b4-e91e-45a8-a4e5-8cd0063f9d90",
   "metadata": {},
   "outputs": [],
   "source": [
    "# read in data\n",
    "df = pd.read_sql(\n",
    "    'SELECT * FROM dbo.AQ32RACE WHERE Cycle=1', \n",
    "    connection\n",
    ")\n",
    "\n",
    "code_df = pd.read_sql(\n",
    "    'SELECT * FROM dbo.AQ32RACE_Codes', \n",
    "    connection\n",
    ")"
   ]
  },
  {
   "cell_type": "code",
   "execution_count": null,
   "id": "d4732a2c-b55c-4a2f-bac3-2414c1cd4bf3",
   "metadata": {},
   "outputs": [],
   "source": [
    "# clean data headers \n",
    "def clean_headers(df):\n",
    "    df.columns = [x.lower().replace(' ','_') for x in df.columns]\n",
    "\n"
   ]
  },
  {
   "cell_type": "code",
   "execution_count": null,
   "id": "85cfe03f-b655-4ade-8ba3-2c85d1bc8512",
   "metadata": {},
   "outputs": [],
   "source": [
    "clean_headers(df)\n",
    "clean_headers(code_df)"
   ]
  },
  {
   "cell_type": "code",
   "execution_count": null,
   "id": "8b73ddec-8670-4cee-81c2-74ebb547d425",
   "metadata": {},
   "outputs": [],
   "source": [
    "# get a cleaned up column to use (mix of actual comment column and cleaned)\n",
    "df['aq32race_combined'] = df.apply(\n",
    "    lambda x: x.aq32race.lower() if x.aq32race_cleaned == None or x.aq32race_cleaned=='105' else x.aq32race_cleaned.lower(), \n",
    "    axis=1\n",
    ")\n",
    "\n",
    "df.head()"
   ]
  },
  {
   "cell_type": "code",
   "execution_count": null,
   "id": "69c38aad-35b0-409a-b840-e611ef37d5e9",
   "metadata": {},
   "outputs": [],
   "source": [
    "def split_description(description):\n",
    "\n",
    "    # check for NULLs\n",
    "    if description is None:\n",
    "        return []\n",
    "        \n",
    "    # split string based on comma delimiters, as well as words in brackets\n",
    "    desc_list = re.split(r'\\sand\\s|\\sor\\s|[,()\\r\\n]+', description)\n",
    "\n",
    "    # lower case, remove extra characters and remove spaces\n",
    "    desc_list = [x.lower().replace('\"', '').replace('_', '').strip(' ') for x in desc_list]\n",
    "\n",
    "    # remove descriptors that are empty\n",
    "    desc_list = [x for x in desc_list if x!='']\n",
    "\n",
    "    return desc_list"
   ]
  },
  {
   "cell_type": "code",
   "execution_count": null,
   "id": "e8684e06-b2fa-4c00-931f-0ff9b766dd44",
   "metadata": {},
   "outputs": [],
   "source": [
    "# long form of all possible descriptors used\n",
    "\n",
    "code_dict_long = { 'code': [], 'description': [] }\n",
    "\n",
    "for idx, row in code_df.iterrows():\n",
    "    code = row.q_code\n",
    "\n",
    "    qc_desc = split_description(row.qc_desc)\n",
    "    qc_desc_notes = split_description(row.qc_desc_notes)\n",
    "    additional_notes = split_description(row.additional_notes)\n",
    "\n",
    "    all_desc = qc_desc + qc_desc_notes + additional_notes\n",
    "\n",
    "    # remove duplicates \n",
    "    all_desc = [*set(all_desc)]\n",
    "    \n",
    "    n_desc = len(all_desc)\n",
    "\n",
    "    if n_desc==0:\n",
    "        continue\n",
    "\n",
    "    # append to dictionary\n",
    "    code_dict_long['code'].extend([code]*n_desc)\n",
    "    code_dict_long['description'].extend(all_desc)\n",
    "\n",
    "code_df_long = pd.DataFrame(code_dict_long)\n",
    "\n"
   ]
  },
  {
   "cell_type": "code",
   "execution_count": null,
   "id": "94d3487f-bf05-4391-a479-df7881219b26",
   "metadata": {},
   "outputs": [],
   "source": [
    "code_df_long[code_df_long.code=='105']"
   ]
  },
  {
   "cell_type": "code",
   "execution_count": null,
   "id": "e429e869-6416-430a-919e-1d0d6205c401",
   "metadata": {},
   "outputs": [],
   "source": [
    "code_df_long[code_df_long.description.str.contains('/')]"
   ]
  },
  {
   "cell_type": "code",
   "execution_count": null,
   "id": "3f221587-9f18-4334-8a52-706a80c34548",
   "metadata": {},
   "outputs": [],
   "source": [
    "code_df_long"
   ]
  },
  {
   "cell_type": "code",
   "execution_count": null,
   "id": "29f42a89-540d-4757-8f66-5f21c251caf2",
   "metadata": {},
   "outputs": [],
   "source": [
    "def get_scores(response, code_df_long, n_limit=16):\n",
    "    \n",
    "    response = response.lower()\n",
    "\n",
    "    tmp = code_df_long.copy()\n",
    "    tmp['ratio'] = code_df_long.description.apply(lambda x: fuzz.ratio(x, response))\n",
    "    tmp['partial'] = code_df_long.description.apply(lambda x: fuzz.partial_ratio(x, response))\n",
    "    tmp['sort'] = code_df_long.description.apply(lambda x: fuzz.token_sort_ratio(x, response))\n",
    "    tmp['set'] = code_df_long.description.apply(lambda x: fuzz.token_set_ratio(x, response))\n",
    "    \n",
    "    tmp = pd.melt(tmp, id_vars = ['description'], value_vars=['ratio', 'partial', 'sort', 'set'])\n",
    "    tmp = pd.pivot_table(tmp, columns=['description', 'variable'], values=['value']).reset_index(drop=True)\n",
    "\n",
    "    tmp.columns = ['_'.join(col) for col in tmp.columns]\n",
    "    tmp = tmp.rename_axis(None, axis=1)\n",
    "    cols = tmp.columns\n",
    "    tmp['response'] = response\n",
    "    tmp = tmp[['response'] + list(cols)]\n",
    "    \n",
    "    return tmp"
   ]
  },
  {
   "cell_type": "code",
   "execution_count": null,
   "id": "78b9bbd8-f8e5-43c3-8c7e-f4a960a55c4c",
   "metadata": {},
   "outputs": [],
   "source": [
    "test = get_scores('canadian', code_df_long)\n",
    "test"
   ]
  },
  {
   "cell_type": "code",
   "execution_count": null,
   "id": "8403176f-edc3-41fc-874d-ac205109ed20",
   "metadata": {
    "scrolled": true
   },
   "outputs": [],
   "source": [
    "train_df = df.apply(lambda x: get_scores(x.aq32race_combined, code_df_long), axis=1)\n",
    "train_df = pd.concat(train_df.values).reset_index(drop=True)\n",
    "train_df"
   ]
  },
  {
   "cell_type": "code",
   "execution_count": null,
   "id": "233d96e3-3e0d-4f58-ab93-8ccd385ab631",
   "metadata": {},
   "outputs": [],
   "source": [
    "# create testing df\n",
    "# converts the coded columns into wide form 1/0 binary responses for every option \n",
    "code_list = code_df_long.code.unique()\n",
    "output_length = len(code_list)\n",
    "\n",
    "test_df = pd.DataFrame(columns = ['response'] + list(code_list))\n",
    "\n",
    "for idx, row in df.iterrows():\n",
    "    response = row.aq32race_combined\n",
    "    code_vals = [0]*len(code_list)\n",
    "    for ii in range(1,17):\n",
    "        column = f'q32race_c{ii:02}'\n",
    "        possible_code = row[column]\n",
    "        if possible_code is None:\n",
    "            continue\n",
    "        else:\n",
    "            idx_option = np.where(code_list==possible_code)[0]\n",
    "            if len(idx_option)>0:\n",
    "                code_vals[idx_option[0]] = 1\n",
    "\n",
    "    tmp_df = pd.DataFrame(np.array([response] + code_vals).reshape(1, -1), columns = ['response'] + list(code_list))\n",
    "    test_df = pd.concat([test_df, tmp_df]).reset_index(drop=True)\n",
    "\n",
    "test_df.iloc[:, 1:] = test_df.iloc[:, 1:].astype(int)\n",
    "test_df"
   ]
  },
  {
   "cell_type": "code",
   "execution_count": null,
   "id": "1e1381db-da7e-4db1-8e63-ef5a3d40fccd",
   "metadata": {
    "scrolled": true
   },
   "outputs": [],
   "source": [
    "test_df.drop('response', axis=1).sum().sort_values(ascending=False)"
   ]
  },
  {
   "cell_type": "code",
   "execution_count": null,
   "id": "f95f5254-7d3a-4288-ab04-2692d6a2df1e",
   "metadata": {},
   "outputs": [],
   "source": [
    "# create synthetic data\n",
    "# this section will create snythetic data that matches a single category based on available phrases \n",
    "code_counts = test_df.drop('response', axis=1).sum().sort_values(ascending=False)\n",
    "n_codes = len(code_counts)\n",
    "max_counts = code_counts.values[0]\n",
    "extra_test_df = pd.DataFrame(columns = test_df.columns)\n",
    "extra_train_df = pd.DataFrame(columns = train_df.columns)\n",
    "\n",
    "for idx, val in code_counts.items():\n",
    "    print()\n",
    "    print_string = f'Code: {idx} -- Observations: {val}'\n",
    "    print(print_string, end='\\r')\n",
    "\n",
    "    # don't add any more to biggest class \n",
    "    if val == max_counts:\n",
    "        continue\n",
    "        \n",
    "    else:\n",
    "        if idx=='Human':\n",
    "            continue\n",
    "        idx = idx.strip(' ')\n",
    "        \n",
    "        # find all words associated with that index\n",
    "        desc_list = code_df_long[code_df_long.code==idx].description.values\n",
    "        code_vals = [0]*len(code_list)\n",
    "\n",
    "        # locate index of this code in code list \n",
    "        code_idx = np.where(code_list==idx)[0]\n",
    "        n_more_counts = max_counts - val\n",
    "        \n",
    "        if len(code_idx) == 0:\n",
    "            continue\n",
    "\n",
    "        # randomly select synthetic data\n",
    "        random_df = pd.DataFrame(columns = ['response'], data = random.choices(desc_list, k=n_more_counts))\n",
    "\n",
    "        # create outputs\n",
    "        code_vals = np.zeros((n_more_counts, n_codes))\n",
    "        code_vals[:, code_idx] = 1\n",
    "        output_df = pd.DataFrame(columns = list(code_list), data= code_vals).astype(int)\n",
    "        output_df = random_df.merge(output_df, left_index=True, right_index=True)\n",
    "\n",
    "        # create inputs\n",
    "        input_df = random_df.apply(lambda x: get_scores(x.response, code_df_long), axis=1)\n",
    "        input_df = pd.concat(input_df.values).reset_index(drop=True)\n",
    "\n",
    "        # append to extra synthetic df\n",
    "        extra_test_df = pd.concat([extra_test_df, output_df]).reset_index(drop=True)\n",
    "        extra_train_df = pd.concat([extra_train_df, input_df]).reset_index(drop=True)\n",
    "\n",
    "        print_string = f'Code: {idx} -- Observations: {val} + {n_more_counts}. Done.'\n",
    "        print(print_string, end='\\r')\n",
    "            "
   ]
  },
  {
   "cell_type": "code",
   "execution_count": null,
   "id": "79b650f7-2c8c-4a0c-ab2a-6cebf7184446",
   "metadata": {},
   "outputs": [],
   "source": [
    "extra_test_df.head()"
   ]
  },
  {
   "cell_type": "code",
   "execution_count": null,
   "id": "67b95f5b-4cd3-4ef9-a895-bb25d4ab3adc",
   "metadata": {},
   "outputs": [],
   "source": [
    "extra_test_df.shape"
   ]
  },
  {
   "cell_type": "code",
   "execution_count": null,
   "id": "cc075e2d-ffb5-4fc0-bfed-7077fbaf471c",
   "metadata": {},
   "outputs": [],
   "source": [
    "extra_train_df.head()"
   ]
  },
  {
   "cell_type": "code",
   "execution_count": null,
   "id": "173a37f3-97a5-42cf-908f-ee142d3f1fcc",
   "metadata": {},
   "outputs": [],
   "source": [
    "extra_train_df.shape"
   ]
  },
  {
   "cell_type": "code",
   "execution_count": null,
   "id": "8cf1b5ab-e530-4f44-9c6a-2668e7440269",
   "metadata": {},
   "outputs": [],
   "source": [
    "train_with_copies_x = pd.concat([train_df, extra_train_df]).drop('response', axis=1).astype(int)\n",
    "train_with_copies_y = pd.concat([test_df, extra_test_df]).drop('response', axis=1).astype(int)"
   ]
  },
  {
   "cell_type": "code",
   "execution_count": null,
   "id": "fcaadcd8-3f03-448f-b045-c4d1fd79e1aa",
   "metadata": {},
   "outputs": [],
   "source": [
    "train_with_copies_y.sum()"
   ]
  },
  {
   "cell_type": "code",
   "execution_count": null,
   "id": "d585157b-b66e-4a24-99c2-de7328cf1ef8",
   "metadata": {},
   "outputs": [],
   "source": [
    "train_with_copies_x.iloc[0, 4]"
   ]
  },
  {
   "cell_type": "code",
   "execution_count": null,
   "id": "e53565ff-24c9-4ce4-889e-616d2a9dc2ee",
   "metadata": {},
   "outputs": [],
   "source": [
    "train_with_copies_y.shape"
   ]
  },
  {
   "cell_type": "code",
   "execution_count": null,
   "id": "b73f9711-5f8a-43df-acdc-fa828a8bb4bb",
   "metadata": {},
   "outputs": [],
   "source": [
    "clf = RandomForestClassifier(random_state = 0).fit(train_with_copies_x, train_with_copies_y)"
   ]
  },
  {
   "cell_type": "code",
   "execution_count": null,
   "id": "a731d6cd-27a0-4c59-a483-8ad03dc17b38",
   "metadata": {},
   "outputs": [],
   "source": [
    "def list_classes(sentence, code_list, code_df, code_df_long, top_n = 10, min_pct = 0.05):\n",
    "\n",
    "    test_input = get_scores(sentence, code_df_long).drop('response', axis=1)\n",
    "    test_out = clf.predict_proba(test_input)\n",
    "    for idx, item in enumerate(test_out):\n",
    "        if item.shape[1] == 1:\n",
    "            test_out[idx] = np.hstack((test_out[idx], 0*test_out[idx]))\n",
    "\n",
    "    test_out = [x[:, 1] for x in test_out]\n",
    "    test_out = np.array(test_out).T\n",
    "\n",
    "    predictions = test_out[0]\n",
    "    ordered_idx = np.argsort(predictions)[::-1]\n",
    "    print()\n",
    "    print(f'TOP MATCHES FOR: {sentence}')\n",
    "    print()\n",
    "    for counter, idx in enumerate(ordered_idx):\n",
    "        if counter>=top_n:\n",
    "            break\n",
    "        else:\n",
    "            prob = predictions[idx]\n",
    "\n",
    "            if prob < min_pct:\n",
    "                break\n",
    "                \n",
    "            code = code_list[idx]\n",
    "            desc = code_df.loc[code_df['q_code'] == code, 'qc_desc'].values[0]\n",
    "            print(f'{prob:0.2%}')\n",
    "            print(desc)\n",
    "            print()"
   ]
  },
  {
   "cell_type": "code",
   "execution_count": null,
   "id": "9e0b02e4-286c-4e6d-a625-9f26c89000aa",
   "metadata": {},
   "outputs": [],
   "source": [
    "sentence = 'canadien, british, african american'\n",
    "list_classes(sentence, code_list, code_df, code_df_long)"
   ]
  },
  {
   "cell_type": "code",
   "execution_count": null,
   "id": "e7d98d9c-c33c-4a51-ad86-4b05772ae667",
   "metadata": {},
   "outputs": [],
   "source": []
  },
  {
   "cell_type": "code",
   "execution_count": null,
   "id": "f71487c1-7c56-4f05-b7ed-15d9ac2f61d7",
   "metadata": {},
   "outputs": [],
   "source": []
  },
  {
   "cell_type": "code",
   "execution_count": null,
   "id": "af35e843-7d8e-40ad-bb5d-ce68656eb618",
   "metadata": {},
   "outputs": [],
   "source": []
  }
 ],
 "metadata": {
  "kernelspec": {
   "display_name": "Python 3 (ipykernel)",
   "language": "python",
   "name": "python3"
  },
  "language_info": {
   "codemirror_mode": {
    "name": "ipython",
    "version": 3
   },
   "file_extension": ".py",
   "mimetype": "text/x-python",
   "name": "python",
   "nbconvert_exporter": "python",
   "pygments_lexer": "ipython3",
   "version": "3.10.12"
  }
 },
 "nbformat": 4,
 "nbformat_minor": 5
}

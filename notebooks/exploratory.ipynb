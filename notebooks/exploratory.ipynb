{
 "cells": [
  {
   "cell_type": "markdown",
   "id": "071630a9",
   "metadata": {},
   "source": [
    "## 1. Install packages and Load dataset"
   ]
  },
  {
   "cell_type": "code",
   "execution_count": null,
   "id": "07f6acd8",
   "metadata": {
    "scrolled": true
   },
   "outputs": [],
   "source": [
    "#!pip install nltk\n",
    "#!pip install numpy scipy scikit-learn"
   ]
  },
  {
   "cell_type": "code",
   "execution_count": null,
   "id": "55c48dd5-971d-4078-b759-f0fe83ba6156",
   "metadata": {},
   "outputs": [],
   "source": [
    "import pyodbc\n",
    "import pandas as pd"
   ]
  },
  {
   "cell_type": "code",
   "execution_count": null,
   "id": "2e3b9eac-0f68-42c4-8a58-c58a8afa02a5",
   "metadata": {},
   "outputs": [],
   "source": [
    "cred_path = '../credentials.txt' #Create credentials.txt on the top of repo directory\n",
    "\n",
    "connection_str = ''\n",
    "with open(cred_path) as infile:\n",
    "    for line in infile:\n",
    "        connection_str += line.strip('\\n')"
   ]
  },
  {
   "cell_type": "code",
   "execution_count": null,
   "id": "b866985a-980f-461e-80da-9a1ecad26782",
   "metadata": {},
   "outputs": [],
   "source": [
    "connection = pyodbc.connect(connection_str)"
   ]
  },
  {
   "cell_type": "code",
   "execution_count": null,
   "id": "059f32b4-e91e-45a8-a4e5-8cd0063f9d90",
   "metadata": {
    "scrolled": true
   },
   "outputs": [],
   "source": [
    "#Read data tables\n",
    "df = pd.read_sql(\n",
    "    'SELECT * FROM dbo.AQ32RACE_TEST WHERE Cycle=1 ORDER BY ID', \n",
    "    connection\n",
    ")\n",
    "df"
   ]
  },
  {
   "cell_type": "code",
   "execution_count": null,
   "id": "2e77dca9-509d-49d8-bbf5-959a72ba2c34",
   "metadata": {},
   "outputs": [],
   "source": [
    "df_code = pd.read_sql(\n",
    "    'SELECT * FROM dbo.AQ32RACE_Codes', \n",
    "    connection\n",
    ")\n",
    "df_code"
   ]
  },
  {
   "cell_type": "markdown",
   "id": "40557517",
   "metadata": {},
   "source": [
    "## 2. Preprocess the text"
   ]
  },
  {
   "cell_type": "code",
   "execution_count": null,
   "id": "159ce10d",
   "metadata": {},
   "outputs": [],
   "source": [
    "import re\n",
    "from sklearn.feature_extraction.text import CountVectorizer\n",
    "import nltk\n",
    "from nltk.corpus import stopwords\n",
    "nltk.download('stopwords')\n",
    "nltk.download('punkt')"
   ]
  },
  {
   "cell_type": "code",
   "execution_count": null,
   "id": "feeb0c58",
   "metadata": {},
   "outputs": [],
   "source": [
    "def clean_text(text):\n",
    "    # Remove punctuation\n",
    "    text = re.sub(r'[^\\w\\s]', '', text)\n",
    "    # Convert text to lowercase\n",
    "    text = text.lower()\n",
    "    # Remove numbers\n",
    "    text = re.sub(r'\\d+', '', text)\n",
    "    \n",
    "    # Remove Stopwords\n",
    "    stop_words = set(stopwords.words('english'))\n",
    "    words = nltk.word_tokenize(text)  # split string into words (tokens)\n",
    "    words = [i for i in words if i not in stop_words]  # remove the stopwords\n",
    "    text = ' '.join(words)  # join the list of words back into a string\n",
    "\n",
    "    return text"
   ]
  },
  {
   "cell_type": "code",
   "execution_count": null,
   "id": "40ca7375",
   "metadata": {},
   "outputs": [],
   "source": [
    "df['AQ32RACE_Cleaned'] = df['AQ32RACE'].apply(clean_text)"
   ]
  },
  {
   "cell_type": "markdown",
   "id": "297dde69",
   "metadata": {},
   "source": [
    "## 3. Modeling"
   ]
  },
  {
   "cell_type": "markdown",
   "id": "c210d69e",
   "metadata": {},
   "source": [
    "Methodology\n",
    "* Prepare a list of keywords from 'QC_DESC' and 'QC_DESC_Notes'. Preprocess them to a common case (lower or upper) and remove punctuation and extra spaces.\n",
    "* Preprocess the 'AQ32RACE' column in the same way.\n",
    "* For each row in 'AQ32RACE', search for each keyword in the text. If find a match, lookup the corresponding code and put it into the next available column (Q32RACE_CXX)."
   ]
  },
  {
   "cell_type": "code",
   "execution_count": null,
   "id": "1da69c8a",
   "metadata": {},
   "outputs": [],
   "source": [
    "df_code['Q_CODE'] = df_code['Q_CODE'].astype(str)"
   ]
  },
  {
   "cell_type": "code",
   "execution_count": null,
   "id": "e310f01b",
   "metadata": {},
   "outputs": [],
   "source": [
    "# Prepare a list of keywords\n",
    "keywords = pd.concat([df_code['QC_DESC'], df_code['QC_DESC_Notes']]).dropna().str.lower().unique()"
   ]
  },
  {
   "cell_type": "code",
   "execution_count": null,
   "id": "92521fc0",
   "metadata": {},
   "outputs": [],
   "source": [
    "keywords"
   ]
  },
  {
   "cell_type": "code",
   "execution_count": null,
   "id": "b66fff87",
   "metadata": {},
   "outputs": [],
   "source": [
    "# For each row in 'AQ32RACE_Cleaned', search for each keyword in the text\n",
    "for i, text in enumerate(df['AQ32RACE_Cleaned']):\n",
    "    for keyword in keywords:\n",
    "        if re.search(r'\\b' + keyword + r'\\b', text):  # Search for the keyword as a whole word\n",
    "            # Look up the code for the keyword\n",
    "            code = df_code.loc[(df_code['QC_DESC'].str.lower() == keyword) | (df_code['QC_DESC_Notes'].str.lower() == keyword), 'Q_CODE'].values\n",
    "            if len(code) > 0:  # If the keyword was found\n",
    "                # Store the code in the first available column, starting from Q32RACE_C03\n",
    "                for j in range(0, 16):\n",
    "                    if pd.isnull(df.loc[i, f'Q32RACE_C{j+1:02}']):\n",
    "                        df.loc[i, f'Q32RACE_C{j+1:02}'] = code[0]\n",
    "                        break"
   ]
  },
  {
   "cell_type": "code",
   "execution_count": null,
   "id": "da0297c2",
   "metadata": {},
   "outputs": [],
   "source": [
    "pd.set_option('display.max_rows', None)\n",
    "df.head(1000)"
   ]
  },
  {
   "cell_type": "markdown",
   "id": "79639abd",
   "metadata": {},
   "source": [
    "### K-means clustering"
   ]
  },
  {
   "cell_type": "code",
   "execution_count": null,
   "id": "790dd477",
   "metadata": {},
   "outputs": [],
   "source": [
    "from sklearn.feature_extraction.text import TfidfVectorizer\n",
    "from sklearn.cluster import KMeans\n",
    "\n",
    "# TF-IDF feature matrix\n",
    "tfidf_vectorizer = TfidfVectorizer()\n",
    "tfidf = tfidf_vectorizer.fit_transform(df['AQ32RACE_Cleaned'])\n",
    "\n",
    "# K-means clustering\n",
    "kmeans = KMeans(n_clusters=50)\n",
    "kmeans.fit(tfidf)\n",
    "\n",
    "# Get cluster assignments for each data point\n",
    "df['cluster'] = kmeans.labels_\n"
   ]
  },
  {
   "cell_type": "code",
   "execution_count": null,
   "id": "ea851577",
   "metadata": {
    "scrolled": true
   },
   "outputs": [],
   "source": [
    "df[df['cluster'] == 21] #k-means doesn't take into account of multiple categories for single answer."
   ]
  }
 ],
 "metadata": {
  "kernelspec": {
   "display_name": "Python 3 (ipykernel)",
   "language": "python",
   "name": "python3"
  },
  "language_info": {
   "codemirror_mode": {
    "name": "ipython",
    "version": 3
   },
   "file_extension": ".py",
   "mimetype": "text/x-python",
   "name": "python",
   "nbconvert_exporter": "python",
   "pygments_lexer": "ipython3",
   "version": "3.9.17"
  }
 },
 "nbformat": 4,
 "nbformat_minor": 5
}

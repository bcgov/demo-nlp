{
 "cells": [
  {
   "cell_type": "code",
   "execution_count": null,
   "id": "55c48dd5-971d-4078-b759-f0fe83ba6156",
   "metadata": {},
   "outputs": [],
   "source": [
    "import pyodbc\n",
    "import pandas as pd"
   ]
  },
  {
   "cell_type": "code",
   "execution_count": null,
   "id": "2e3b9eac-0f68-42c4-8a58-c58a8afa02a5",
   "metadata": {},
   "outputs": [],
   "source": [
    "cred_path = '../credentials.txt'\n",
    "\n",
    "connection_str = ''\n",
    "with open(cred_path) as infile:\n",
    "    for line in infile:\n",
    "        connection_str += line.strip('\\n')"
   ]
  },
  {
   "cell_type": "code",
   "execution_count": null,
   "id": "b866985a-980f-461e-80da-9a1ecad26782",
   "metadata": {},
   "outputs": [],
   "source": [
    "connection = pyodbc.connect(connection_str)"
   ]
  },
  {
   "cell_type": "code",
   "execution_count": null,
   "id": "059f32b4-e91e-45a8-a4e5-8cd0063f9d90",
   "metadata": {},
   "outputs": [],
   "source": [
    "df = pd.read_sql(\n",
    "    'SELECT * FROM dbo.AQ32RACE WHERE Cycle=1', \n",
    "    connection\n",
    ")"
   ]
  },
  {
   "cell_type": "code",
   "execution_count": null,
   "id": "c982eee7-3a43-40bc-964b-33d3cd537e7f",
   "metadata": {},
   "outputs": [],
   "source": [
    "df"
   ]
  },
  {
   "cell_type": "code",
   "execution_count": null,
   "id": "2e77dca9-509d-49d8-bbf5-959a72ba2c34",
   "metadata": {},
   "outputs": [],
   "source": []
  }
 ],
 "metadata": {
  "kernelspec": {
   "display_name": "Python 3 (ipykernel)",
   "language": "python",
   "name": "python3"
  },
  "language_info": {
   "codemirror_mode": {
    "name": "ipython",
    "version": 3
   },
   "file_extension": ".py",
   "mimetype": "text/x-python",
   "name": "python",
   "nbconvert_exporter": "python",
   "pygments_lexer": "ipython3",
   "version": "3.10.12"
  }
 },
 "nbformat": 4,
 "nbformat_minor": 5
}
